{
  "nbformat": 4,
  "nbformat_minor": 0,
  "metadata": {
    "colab": {
      "name": "test-tensor-01.ipynb",
      "provenance": [],
      "collapsed_sections": [],
      "authorship_tag": "ABX9TyMvkHogf+K+jNc+G/q6AmXn",
      "include_colab_link": true
    },
    "kernelspec": {
      "name": "python3",
      "display_name": "Python 3"
    }
  },
  "cells": [
    {
      "cell_type": "markdown",
      "metadata": {
        "id": "view-in-github",
        "colab_type": "text"
      },
      "source": [
        "<a href=\"https://colab.research.google.com/github/gioma68/ai-and-ml-samples/blob/main/test_tensor_01.ipynb\" target=\"_parent\"><img src=\"https://colab.research.google.com/assets/colab-badge.svg\" alt=\"Open In Colab\"/></a>"
      ]
    },
    {
      "cell_type": "markdown",
      "metadata": {
        "id": "2lKhj-m8dELJ"
      },
      "source": [
        "### **Esercizio 1 - Rete Neuronale a 3 livelli per la classificazione di un dataset relativo a dati sui tumori al seno con librerie TensorFlow**"
      ]
    },
    {
      "cell_type": "markdown",
      "metadata": {
        "id": "mF-jddkWbCL2"
      },
      "source": [
        "Imposto librerie TensorFlow + numpy + sckit-learn"
      ]
    },
    {
      "cell_type": "code",
      "metadata": {
        "id": "4Sh2qt-Oawhb"
      },
      "source": [
        "import tensorflow as tf\r\n",
        "from tensorflow import keras as k\r\n",
        "import numpy as np\r\n",
        "import matplotlib.pyplot as plt\r\n",
        "from sklearn.model_selection import train_test_split"
      ],
      "execution_count": null,
      "outputs": []
    },
    {
      "cell_type": "markdown",
      "metadata": {
        "id": "YN4dQmA_bJFM"
      },
      "source": [
        "uso dataset di dati su cancro al seno (`breast-cancer`) da libreria `sckit-learn`"
      ]
    },
    {
      "cell_type": "code",
      "metadata": {
        "id": "lHblvL5fbc-J"
      },
      "source": [
        "from sklearn.datasets import load_breast_cancer"
      ],
      "execution_count": null,
      "outputs": []
    },
    {
      "cell_type": "markdown",
      "metadata": {
        "id": "TYHKjKtek_7b"
      },
      "source": [
        ""
      ]
    },
    {
      "cell_type": "markdown",
      "metadata": {
        "id": "xWF9lm-jbo1I"
      },
      "source": [
        "carico i dati in una var python"
      ]
    },
    {
      "cell_type": "code",
      "metadata": {
        "id": "GG7RuYgFbsR2",
        "colab": {
          "base_uri": "https://localhost:8080/"
        },
        "outputId": "aa522dd4-0f17-4d89-c1f6-e08b6257c584"
      },
      "source": [
        "data_set = load_breast_cancer()\n",
        "data_set"
      ],
      "execution_count": null,
      "outputs": [
        {
          "output_type": "execute_result",
          "data": {
            "text/plain": [
              "{'DESCR': '.. _breast_cancer_dataset:\\n\\nBreast cancer wisconsin (diagnostic) dataset\\n--------------------------------------------\\n\\n**Data Set Characteristics:**\\n\\n    :Number of Instances: 569\\n\\n    :Number of Attributes: 30 numeric, predictive attributes and the class\\n\\n    :Attribute Information:\\n        - radius (mean of distances from center to points on the perimeter)\\n        - texture (standard deviation of gray-scale values)\\n        - perimeter\\n        - area\\n        - smoothness (local variation in radius lengths)\\n        - compactness (perimeter^2 / area - 1.0)\\n        - concavity (severity of concave portions of the contour)\\n        - concave points (number of concave portions of the contour)\\n        - symmetry \\n        - fractal dimension (\"coastline approximation\" - 1)\\n\\n        The mean, standard error, and \"worst\" or largest (mean of the three\\n        largest values) of these features were computed for each image,\\n        resulting in 30 features.  For instance, field 3 is Mean Radius, field\\n        13 is Radius SE, field 23 is Worst Radius.\\n\\n        - class:\\n                - WDBC-Malignant\\n                - WDBC-Benign\\n\\n    :Summary Statistics:\\n\\n    ===================================== ====== ======\\n                                           Min    Max\\n    ===================================== ====== ======\\n    radius (mean):                        6.981  28.11\\n    texture (mean):                       9.71   39.28\\n    perimeter (mean):                     43.79  188.5\\n    area (mean):                          143.5  2501.0\\n    smoothness (mean):                    0.053  0.163\\n    compactness (mean):                   0.019  0.345\\n    concavity (mean):                     0.0    0.427\\n    concave points (mean):                0.0    0.201\\n    symmetry (mean):                      0.106  0.304\\n    fractal dimension (mean):             0.05   0.097\\n    radius (standard error):              0.112  2.873\\n    texture (standard error):             0.36   4.885\\n    perimeter (standard error):           0.757  21.98\\n    area (standard error):                6.802  542.2\\n    smoothness (standard error):          0.002  0.031\\n    compactness (standard error):         0.002  0.135\\n    concavity (standard error):           0.0    0.396\\n    concave points (standard error):      0.0    0.053\\n    symmetry (standard error):            0.008  0.079\\n    fractal dimension (standard error):   0.001  0.03\\n    radius (worst):                       7.93   36.04\\n    texture (worst):                      12.02  49.54\\n    perimeter (worst):                    50.41  251.2\\n    area (worst):                         185.2  4254.0\\n    smoothness (worst):                   0.071  0.223\\n    compactness (worst):                  0.027  1.058\\n    concavity (worst):                    0.0    1.252\\n    concave points (worst):               0.0    0.291\\n    symmetry (worst):                     0.156  0.664\\n    fractal dimension (worst):            0.055  0.208\\n    ===================================== ====== ======\\n\\n    :Missing Attribute Values: None\\n\\n    :Class Distribution: 212 - Malignant, 357 - Benign\\n\\n    :Creator:  Dr. William H. Wolberg, W. Nick Street, Olvi L. Mangasarian\\n\\n    :Donor: Nick Street\\n\\n    :Date: November, 1995\\n\\nThis is a copy of UCI ML Breast Cancer Wisconsin (Diagnostic) datasets.\\nhttps://goo.gl/U2Uwz2\\n\\nFeatures are computed from a digitized image of a fine needle\\naspirate (FNA) of a breast mass.  They describe\\ncharacteristics of the cell nuclei present in the image.\\n\\nSeparating plane described above was obtained using\\nMultisurface Method-Tree (MSM-T) [K. P. Bennett, \"Decision Tree\\nConstruction Via Linear Programming.\" Proceedings of the 4th\\nMidwest Artificial Intelligence and Cognitive Science Society,\\npp. 97-101, 1992], a classification method which uses linear\\nprogramming to construct a decision tree.  Relevant features\\nwere selected using an exhaustive search in the space of 1-4\\nfeatures and 1-3 separating planes.\\n\\nThe actual linear program used to obtain the separating plane\\nin the 3-dimensional space is that described in:\\n[K. P. Bennett and O. L. Mangasarian: \"Robust Linear\\nProgramming Discrimination of Two Linearly Inseparable Sets\",\\nOptimization Methods and Software 1, 1992, 23-34].\\n\\nThis database is also available through the UW CS ftp server:\\n\\nftp ftp.cs.wisc.edu\\ncd math-prog/cpo-dataset/machine-learn/WDBC/\\n\\n.. topic:: References\\n\\n   - W.N. Street, W.H. Wolberg and O.L. Mangasarian. Nuclear feature extraction \\n     for breast tumor diagnosis. IS&T/SPIE 1993 International Symposium on \\n     Electronic Imaging: Science and Technology, volume 1905, pages 861-870,\\n     San Jose, CA, 1993.\\n   - O.L. Mangasarian, W.N. Street and W.H. Wolberg. Breast cancer diagnosis and \\n     prognosis via linear programming. Operations Research, 43(4), pages 570-577, \\n     July-August 1995.\\n   - W.H. Wolberg, W.N. Street, and O.L. Mangasarian. Machine learning techniques\\n     to diagnose breast cancer from fine-needle aspirates. Cancer Letters 77 (1994) \\n     163-171.',\n",
              " 'data': array([[1.799e+01, 1.038e+01, 1.228e+02, ..., 2.654e-01, 4.601e-01,\n",
              "         1.189e-01],\n",
              "        [2.057e+01, 1.777e+01, 1.329e+02, ..., 1.860e-01, 2.750e-01,\n",
              "         8.902e-02],\n",
              "        [1.969e+01, 2.125e+01, 1.300e+02, ..., 2.430e-01, 3.613e-01,\n",
              "         8.758e-02],\n",
              "        ...,\n",
              "        [1.660e+01, 2.808e+01, 1.083e+02, ..., 1.418e-01, 2.218e-01,\n",
              "         7.820e-02],\n",
              "        [2.060e+01, 2.933e+01, 1.401e+02, ..., 2.650e-01, 4.087e-01,\n",
              "         1.240e-01],\n",
              "        [7.760e+00, 2.454e+01, 4.792e+01, ..., 0.000e+00, 2.871e-01,\n",
              "         7.039e-02]]),\n",
              " 'feature_names': array(['mean radius', 'mean texture', 'mean perimeter', 'mean area',\n",
              "        'mean smoothness', 'mean compactness', 'mean concavity',\n",
              "        'mean concave points', 'mean symmetry', 'mean fractal dimension',\n",
              "        'radius error', 'texture error', 'perimeter error', 'area error',\n",
              "        'smoothness error', 'compactness error', 'concavity error',\n",
              "        'concave points error', 'symmetry error',\n",
              "        'fractal dimension error', 'worst radius', 'worst texture',\n",
              "        'worst perimeter', 'worst area', 'worst smoothness',\n",
              "        'worst compactness', 'worst concavity', 'worst concave points',\n",
              "        'worst symmetry', 'worst fractal dimension'], dtype='<U23'),\n",
              " 'filename': '/usr/local/lib/python3.6/dist-packages/sklearn/datasets/data/breast_cancer.csv',\n",
              " 'target': array([0, 0, 0, 0, 0, 0, 0, 0, 0, 0, 0, 0, 0, 0, 0, 0, 0, 0, 0, 1, 1, 1,\n",
              "        0, 0, 0, 0, 0, 0, 0, 0, 0, 0, 0, 0, 0, 0, 0, 1, 0, 0, 0, 0, 0, 0,\n",
              "        0, 0, 1, 0, 1, 1, 1, 1, 1, 0, 0, 1, 0, 0, 1, 1, 1, 1, 0, 1, 0, 0,\n",
              "        1, 1, 1, 1, 0, 1, 0, 0, 1, 0, 1, 0, 0, 1, 1, 1, 0, 0, 1, 0, 0, 0,\n",
              "        1, 1, 1, 0, 1, 1, 0, 0, 1, 1, 1, 0, 0, 1, 1, 1, 1, 0, 1, 1, 0, 1,\n",
              "        1, 1, 1, 1, 1, 1, 1, 0, 0, 0, 1, 0, 0, 1, 1, 1, 0, 0, 1, 0, 1, 0,\n",
              "        0, 1, 0, 0, 1, 1, 0, 1, 1, 0, 1, 1, 1, 1, 0, 1, 1, 1, 1, 1, 1, 1,\n",
              "        1, 1, 0, 1, 1, 1, 1, 0, 0, 1, 0, 1, 1, 0, 0, 1, 1, 0, 0, 1, 1, 1,\n",
              "        1, 0, 1, 1, 0, 0, 0, 1, 0, 1, 0, 1, 1, 1, 0, 1, 1, 0, 0, 1, 0, 0,\n",
              "        0, 0, 1, 0, 0, 0, 1, 0, 1, 0, 1, 1, 0, 1, 0, 0, 0, 0, 1, 1, 0, 0,\n",
              "        1, 1, 1, 0, 1, 1, 1, 1, 1, 0, 0, 1, 1, 0, 1, 1, 0, 0, 1, 0, 1, 1,\n",
              "        1, 1, 0, 1, 1, 1, 1, 1, 0, 1, 0, 0, 0, 0, 0, 0, 0, 0, 0, 0, 0, 0,\n",
              "        0, 0, 1, 1, 1, 1, 1, 1, 0, 1, 0, 1, 1, 0, 1, 1, 0, 1, 0, 0, 1, 1,\n",
              "        1, 1, 1, 1, 1, 1, 1, 1, 1, 1, 1, 0, 1, 1, 0, 1, 0, 1, 1, 1, 1, 1,\n",
              "        1, 1, 1, 1, 1, 1, 1, 1, 1, 0, 1, 1, 1, 0, 1, 0, 1, 1, 1, 1, 0, 0,\n",
              "        0, 1, 1, 1, 1, 0, 1, 0, 1, 0, 1, 1, 1, 0, 1, 1, 1, 1, 1, 1, 1, 0,\n",
              "        0, 0, 1, 1, 1, 1, 1, 1, 1, 1, 1, 1, 1, 0, 0, 1, 0, 0, 0, 1, 0, 0,\n",
              "        1, 1, 1, 1, 1, 0, 1, 1, 1, 1, 1, 0, 1, 1, 1, 0, 1, 1, 0, 0, 1, 1,\n",
              "        1, 1, 1, 1, 0, 1, 1, 1, 1, 1, 1, 1, 0, 1, 1, 1, 1, 1, 0, 1, 1, 0,\n",
              "        1, 1, 1, 1, 1, 1, 1, 1, 1, 1, 1, 1, 0, 1, 0, 0, 1, 0, 1, 1, 1, 1,\n",
              "        1, 0, 1, 1, 0, 1, 0, 1, 1, 0, 1, 0, 1, 1, 1, 1, 1, 1, 1, 1, 0, 0,\n",
              "        1, 1, 1, 1, 1, 1, 0, 1, 1, 1, 1, 1, 1, 1, 1, 1, 1, 0, 1, 1, 1, 1,\n",
              "        1, 1, 1, 0, 1, 0, 1, 1, 0, 1, 1, 1, 1, 1, 0, 0, 1, 0, 1, 0, 1, 1,\n",
              "        1, 1, 1, 0, 1, 1, 0, 1, 0, 1, 0, 0, 1, 1, 1, 0, 1, 1, 1, 1, 1, 1,\n",
              "        1, 1, 1, 1, 1, 0, 1, 0, 0, 1, 1, 1, 1, 1, 1, 1, 1, 1, 1, 1, 1, 1,\n",
              "        1, 1, 1, 1, 1, 1, 1, 1, 1, 1, 1, 1, 0, 0, 0, 0, 0, 0, 1]),\n",
              " 'target_names': array(['malignant', 'benign'], dtype='<U9')}"
            ]
          },
          "metadata": {
            "tags": []
          },
          "execution_count": 57
        }
      ]
    },
    {
      "cell_type": "markdown",
      "metadata": {
        "id": "s4roAtXybxRk"
      },
      "source": [
        "Assegno i dati di addestramento (X) e i valori obiettivo (y)"
      ]
    },
    {
      "cell_type": "code",
      "metadata": {
        "colab": {
          "base_uri": "https://localhost:8080/"
        },
        "id": "V2uYbkRgb304",
        "outputId": "99419fc9-f85b-4fc0-afa9-e2d99025fc36"
      },
      "source": [
        "X,y = data_set['data'], data_set['target']\r\n",
        "X.shape"
      ],
      "execution_count": null,
      "outputs": [
        {
          "output_type": "execute_result",
          "data": {
            "text/plain": [
              "(569, 30)"
            ]
          },
          "metadata": {
            "tags": []
          },
          "execution_count": 58
        }
      ]
    },
    {
      "cell_type": "markdown",
      "metadata": {
        "id": "pyFWglX9cHpI"
      },
      "source": [
        "vedo i dati sorgenti su grafico scatter"
      ]
    },
    {
      "cell_type": "code",
      "metadata": {
        "colab": {
          "base_uri": "https://localhost:8080/",
          "height": 282
        },
        "id": "LF_a5VTScJy8",
        "outputId": "62d3e850-84ac-4c8d-97c7-660121944c88"
      },
      "source": [
        "plt.scatter(X[:,0],X[:,1],c=y)"
      ],
      "execution_count": null,
      "outputs": [
        {
          "output_type": "execute_result",
          "data": {
            "text/plain": [
              "<matplotlib.collections.PathCollection at 0x7f955f858da0>"
            ]
          },
          "metadata": {
            "tags": []
          },
          "execution_count": 59
        },
        {
          "output_type": "display_data",
          "data": {
            "image/png": "[encoded data removed]",
            "text/plain": [
              "<Figure size 432x288 with 1 Axes>"
            ]
          },
          "metadata": {
            "tags": [],
            "needs_background": "light"
          }
        }
      ]
    },
    {
      "cell_type": "markdown",
      "metadata": {
        "id": "SgT1hBLxcs9p"
      },
      "source": [
        "Usando `keras` (da `TensorFlow`) definisco una 3-layer NeuralNetwork (con *16 neuroni* per layer, **1 finale come classificatore**) e ne visualizzo la struttura"
      ]
    },
    {
      "cell_type": "code",
      "metadata": {
        "id": "F0PU3qKkl7vi",
        "colab": {
          "base_uri": "https://localhost:8080/",
          "height": 664
        },
        "outputId": "029eb81a-63e9-4ad8-a024-4d9f2c8da8f6"
      },
      "source": [
        "model = k.Sequential([\n",
        "                      k.layers.Dense(16,activation=k.activations.relu,input_shape=[30]),\n",
        "                      k.layers.Dense(16,activation=k.activations.relu),\n",
        "                      k.layers.Dense(1,activation=k.activations.sigmoid)\n",
        "])\n",
        "model.summary()\n",
        "k.utils.plot_model(model,show_shapes=True)"
      ],
      "execution_count": null,
      "outputs": [
        {
          "output_type": "stream",
          "text": [
            "Model: \"sequential_3\"\n",
            "_________________________________________________________________\n",
            "Layer (type)                 Output Shape              Param #   \n",
            "=================================================================\n",
            "dense_9 (Dense)              (None, 16)                496       \n",
            "_________________________________________________________________\n",
            "dense_10 (Dense)             (None, 16)                272       \n",
            "_________________________________________________________________\n",
            "dense_11 (Dense)             (None, 1)                 17        \n",
            "=================================================================\n",
            "Total params: 785\n",
            "Trainable params: 785\n",
            "Non-trainable params: 0\n",
            "_________________________________________________________________\n"
          ],
          "name": "stdout"
        },
        {
          "output_type": "execute_result",
          "data": {
            "image/png": "[encoded data removed]",
            "text/plain": [
              "<IPython.core.display.Image object>"
            ]
          },
          "metadata": {
            "tags": []
          },
          "execution_count": 60
        }
      ]
    },
    {
      "cell_type": "markdown",
      "metadata": {
        "id": "jmEzBnWtdDJa"
      },
      "source": [
        "compilo il modello"
      ]
    },
    {
      "cell_type": "code",
      "metadata": {
        "id": "d5rnuScqdE4q"
      },
      "source": [
        "model.compile(optimizer=k.optimizers.Adam(),loss=k.losses.binary_crossentropy,metrics=[k.metrics.binary_accuracy])"
      ],
      "execution_count": null,
      "outputs": []
    },
    {
      "cell_type": "markdown",
      "metadata": {
        "id": "aSZ2SN7zb_UQ"
      },
      "source": [
        "Distinguo tra train-set e test-set (per i test-set uso il 20% del dataset di origine)"
      ]
    },
    {
      "cell_type": "code",
      "metadata": {
        "id": "V1NP9n7_cDV6"
      },
      "source": [
        "X_train, X_test, y_train, y_test = train_test_split(X,y,test_size=0.2)"
      ],
      "execution_count": null,
      "outputs": []
    },
    {
      "cell_type": "markdown",
      "metadata": {
        "id": "9BkDkhLwep98"
      },
      "source": [
        "Imposto il modello con i dati di `train`"
      ]
    },
    {
      "cell_type": "code",
      "metadata": {
        "id": "bu6PBkMDnOyG",
        "colab": {
          "base_uri": "https://localhost:8080/"
        },
        "outputId": "5222534f-6de8-4847-db2f-efba19959192"
      },
      "source": [
        "epochs = 250\n",
        "model.fit(X_train,y_train,epochs=epochs)"
      ],
      "execution_count": null,
      "outputs": [
        {
          "output_type": "stream",
          "text": [
            "Epoch 1/250\n",
            "15/15 [==============================] - 0s 2ms/step - loss: 28.0516 - binary_accuracy: 0.4214\n",
            "Epoch 2/250\n",
            "15/15 [==============================] - 0s 2ms/step - loss: 3.9047 - binary_accuracy: 0.7193\n",
            "Epoch 3/250\n",
            "15/15 [==============================] - 0s 2ms/step - loss: 0.8383 - binary_accuracy: 0.8611\n",
            "Epoch 4/250\n",
            "15/15 [==============================] - 0s 2ms/step - loss: 0.5451 - binary_accuracy: 0.8917\n",
            "Epoch 5/250\n",
            "15/15 [==============================] - 0s 2ms/step - loss: 0.5234 - binary_accuracy: 0.9086\n",
            "Epoch 6/250\n",
            "15/15 [==============================] - 0s 2ms/step - loss: 0.5403 - binary_accuracy: 0.8865\n",
            "Epoch 7/250\n",
            "15/15 [==============================] - 0s 2ms/step - loss: 0.4080 - binary_accuracy: 0.9035\n",
            "Epoch 8/250\n",
            "15/15 [==============================] - 0s 2ms/step - loss: 0.4353 - binary_accuracy: 0.9170\n",
            "Epoch 9/250\n",
            "15/15 [==============================] - 0s 2ms/step - loss: 0.4412 - binary_accuracy: 0.8982\n",
            "Epoch 10/250\n",
            "15/15 [==============================] - 0s 2ms/step - loss: 0.3420 - binary_accuracy: 0.9162\n",
            "Epoch 11/250\n",
            "15/15 [==============================] - 0s 2ms/step - loss: 0.3526 - binary_accuracy: 0.9150\n",
            "Epoch 12/250\n",
            "15/15 [==============================] - 0s 2ms/step - loss: 0.3543 - binary_accuracy: 0.9253\n",
            "Epoch 13/250\n",
            "15/15 [==============================] - 0s 2ms/step - loss: 0.4024 - binary_accuracy: 0.9021\n",
            "Epoch 14/250\n",
            "15/15 [==============================] - 0s 2ms/step - loss: 0.3358 - binary_accuracy: 0.8838\n",
            "Epoch 15/250\n",
            "15/15 [==============================] - 0s 2ms/step - loss: 0.3255 - binary_accuracy: 0.9263\n",
            "Epoch 16/250\n",
            "15/15 [==============================] - 0s 2ms/step - loss: 0.3267 - binary_accuracy: 0.9069\n",
            "Epoch 17/250\n",
            "15/15 [==============================] - 0s 2ms/step - loss: 0.3539 - binary_accuracy: 0.9125\n",
            "Epoch 18/250\n",
            "15/15 [==============================] - 0s 2ms/step - loss: 0.3313 - binary_accuracy: 0.9161\n",
            "Epoch 19/250\n",
            "15/15 [==============================] - 0s 2ms/step - loss: 0.3544 - binary_accuracy: 0.8974\n",
            "Epoch 20/250\n",
            "15/15 [==============================] - 0s 2ms/step - loss: 0.3196 - binary_accuracy: 0.8886\n",
            "Epoch 21/250\n",
            "15/15 [==============================] - 0s 2ms/step - loss: 0.2954 - binary_accuracy: 0.9170\n",
            "Epoch 22/250\n",
            "15/15 [==============================] - 0s 2ms/step - loss: 0.5628 - binary_accuracy: 0.8711\n",
            "Epoch 23/250\n",
            "15/15 [==============================] - 0s 1ms/step - loss: 0.4951 - binary_accuracy: 0.8712\n",
            "Epoch 24/250\n",
            "15/15 [==============================] - 0s 2ms/step - loss: 0.4704 - binary_accuracy: 0.8879\n",
            "Epoch 25/250\n",
            "15/15 [==============================] - 0s 2ms/step - loss: 0.2040 - binary_accuracy: 0.9357\n",
            "Epoch 26/250\n",
            "15/15 [==============================] - 0s 2ms/step - loss: 0.3360 - binary_accuracy: 0.8959\n",
            "Epoch 27/250\n",
            "15/15 [==============================] - 0s 2ms/step - loss: 0.2513 - binary_accuracy: 0.9211\n",
            "Epoch 28/250\n",
            "15/15 [==============================] - 0s 2ms/step - loss: 0.2765 - binary_accuracy: 0.9295\n",
            "Epoch 29/250\n",
            "15/15 [==============================] - 0s 2ms/step - loss: 0.3173 - binary_accuracy: 0.9111\n",
            "Epoch 30/250\n",
            "15/15 [==============================] - 0s 2ms/step - loss: 0.2608 - binary_accuracy: 0.9116\n",
            "Epoch 31/250\n",
            "15/15 [==============================] - 0s 2ms/step - loss: 0.3323 - binary_accuracy: 0.8989\n",
            "Epoch 32/250\n",
            "15/15 [==============================] - 0s 2ms/step - loss: 0.2097 - binary_accuracy: 0.9328\n",
            "Epoch 33/250\n",
            "15/15 [==============================] - 0s 2ms/step - loss: 0.2348 - binary_accuracy: 0.9277\n",
            "Epoch 34/250\n",
            "15/15 [==============================] - 0s 2ms/step - loss: 0.3249 - binary_accuracy: 0.8877\n",
            "Epoch 35/250\n",
            "15/15 [==============================] - 0s 2ms/step - loss: 0.3160 - binary_accuracy: 0.9278\n",
            "Epoch 36/250\n",
            "15/15 [==============================] - 0s 2ms/step - loss: 0.2324 - binary_accuracy: 0.9340\n",
            "Epoch 37/250\n",
            "15/15 [==============================] - 0s 2ms/step - loss: 0.4637 - binary_accuracy: 0.9051\n",
            "Epoch 38/250\n",
            "15/15 [==============================] - 0s 2ms/step - loss: 0.1821 - binary_accuracy: 0.9315\n",
            "Epoch 39/250\n",
            "15/15 [==============================] - 0s 3ms/step - loss: 0.1882 - binary_accuracy: 0.9454\n",
            "Epoch 40/250\n",
            "15/15 [==============================] - 0s 2ms/step - loss: 0.1621 - binary_accuracy: 0.9390\n",
            "Epoch 41/250\n",
            "15/15 [==============================] - 0s 2ms/step - loss: 0.1616 - binary_accuracy: 0.9531\n",
            "Epoch 42/250\n",
            "15/15 [==============================] - 0s 2ms/step - loss: 0.2735 - binary_accuracy: 0.9116\n",
            "Epoch 43/250\n",
            "15/15 [==============================] - 0s 2ms/step - loss: 0.2068 - binary_accuracy: 0.9346\n",
            "Epoch 44/250\n",
            "15/15 [==============================] - 0s 2ms/step - loss: 0.1736 - binary_accuracy: 0.9411\n",
            "Epoch 45/250\n",
            "15/15 [==============================] - 0s 2ms/step - loss: 0.1602 - binary_accuracy: 0.9391\n",
            "Epoch 46/250\n",
            "15/15 [==============================] - 0s 2ms/step - loss: 0.1855 - binary_accuracy: 0.9394\n",
            "Epoch 47/250\n",
            "15/15 [==============================] - 0s 2ms/step - loss: 0.2350 - binary_accuracy: 0.9131\n",
            "Epoch 48/250\n",
            "15/15 [==============================] - 0s 2ms/step - loss: 0.1781 - binary_accuracy: 0.9312\n",
            "Epoch 49/250\n",
            "15/15 [==============================] - 0s 2ms/step - loss: 0.2665 - binary_accuracy: 0.9077\n",
            "Epoch 50/250\n",
            "15/15 [==============================] - 0s 2ms/step - loss: 0.1813 - binary_accuracy: 0.9257\n",
            "Epoch 51/250\n",
            "15/15 [==============================] - 0s 2ms/step - loss: 0.1726 - binary_accuracy: 0.9343\n",
            "Epoch 52/250\n",
            "15/15 [==============================] - 0s 2ms/step - loss: 0.1611 - binary_accuracy: 0.9324\n",
            "Epoch 53/250\n",
            "15/15 [==============================] - 0s 2ms/step - loss: 0.2087 - binary_accuracy: 0.9216\n",
            "Epoch 54/250\n",
            "15/15 [==============================] - 0s 2ms/step - loss: 0.1287 - binary_accuracy: 0.9613\n",
            "Epoch 55/250\n",
            "15/15 [==============================] - 0s 2ms/step - loss: 0.2136 - binary_accuracy: 0.9200\n",
            "Epoch 56/250\n",
            "15/15 [==============================] - 0s 2ms/step - loss: 0.2080 - binary_accuracy: 0.9275\n",
            "Epoch 57/250\n",
            "15/15 [==============================] - 0s 2ms/step - loss: 0.1569 - binary_accuracy: 0.9375\n",
            "Epoch 58/250\n",
            "15/15 [==============================] - 0s 2ms/step - loss: 0.1563 - binary_accuracy: 0.9397\n",
            "Epoch 59/250\n",
            "15/15 [==============================] - 0s 2ms/step - loss: 0.1655 - binary_accuracy: 0.9260\n",
            "Epoch 60/250\n",
            "15/15 [==============================] - 0s 2ms/step - loss: 0.1055 - binary_accuracy: 0.9541\n",
            "Epoch 61/250\n",
            "15/15 [==============================] - 0s 2ms/step - loss: 0.1434 - binary_accuracy: 0.9379\n",
            "Epoch 62/250\n",
            "15/15 [==============================] - 0s 2ms/step - loss: 0.1918 - binary_accuracy: 0.9322\n",
            "Epoch 63/250\n",
            "15/15 [==============================] - 0s 2ms/step - loss: 0.2426 - binary_accuracy: 0.9120\n",
            "Epoch 64/250\n",
            "15/15 [==============================] - 0s 2ms/step - loss: 0.2442 - binary_accuracy: 0.9260\n",
            "Epoch 65/250\n",
            "15/15 [==============================] - 0s 2ms/step - loss: 0.1702 - binary_accuracy: 0.9316\n",
            "Epoch 66/250\n",
            "15/15 [==============================] - 0s 2ms/step - loss: 0.1970 - binary_accuracy: 0.9206\n",
            "Epoch 67/250\n",
            "15/15 [==============================] - 0s 2ms/step - loss: 0.1917 - binary_accuracy: 0.9210\n",
            "Epoch 68/250\n",
            "15/15 [==============================] - 0s 2ms/step - loss: 0.1635 - binary_accuracy: 0.9511\n",
            "Epoch 69/250\n",
            "15/15 [==============================] - 0s 2ms/step - loss: 0.2699 - binary_accuracy: 0.9079\n",
            "Epoch 70/250\n",
            "15/15 [==============================] - 0s 2ms/step - loss: 0.2162 - binary_accuracy: 0.9116\n",
            "Epoch 71/250\n",
            "15/15 [==============================] - 0s 2ms/step - loss: 0.1856 - binary_accuracy: 0.9337\n",
            "Epoch 72/250\n",
            "15/15 [==============================] - 0s 2ms/step - loss: 0.3173 - binary_accuracy: 0.9079\n",
            "Epoch 73/250\n",
            "15/15 [==============================] - 0s 2ms/step - loss: 0.3806 - binary_accuracy: 0.8677\n",
            "Epoch 74/250\n",
            "15/15 [==============================] - 0s 2ms/step - loss: 0.1759 - binary_accuracy: 0.9315\n",
            "Epoch 75/250\n",
            "15/15 [==============================] - 0s 2ms/step - loss: 0.1736 - binary_accuracy: 0.9244\n",
            "Epoch 76/250\n",
            "15/15 [==============================] - 0s 2ms/step - loss: 0.2131 - binary_accuracy: 0.9236\n",
            "Epoch 77/250\n",
            "15/15 [==============================] - 0s 2ms/step - loss: 0.1569 - binary_accuracy: 0.9375\n",
            "Epoch 78/250\n",
            "15/15 [==============================] - 0s 2ms/step - loss: 0.1603 - binary_accuracy: 0.9458\n",
            "Epoch 79/250\n",
            "15/15 [==============================] - 0s 2ms/step - loss: 0.1480 - binary_accuracy: 0.9408\n",
            "Epoch 80/250\n",
            "15/15 [==============================] - 0s 2ms/step - loss: 0.1785 - binary_accuracy: 0.9379\n",
            "Epoch 81/250\n",
            "15/15 [==============================] - 0s 2ms/step - loss: 0.1101 - binary_accuracy: 0.9580\n",
            "Epoch 82/250\n",
            "15/15 [==============================] - 0s 2ms/step - loss: 0.3024 - binary_accuracy: 0.9084\n",
            "Epoch 83/250\n",
            "15/15 [==============================] - 0s 2ms/step - loss: 0.1650 - binary_accuracy: 0.9297\n",
            "Epoch 84/250\n",
            "15/15 [==============================] - 0s 2ms/step - loss: 0.1939 - binary_accuracy: 0.9192\n",
            "Epoch 85/250\n",
            "15/15 [==============================] - 0s 2ms/step - loss: 0.1935 - binary_accuracy: 0.9377\n",
            "Epoch 86/250\n",
            "15/15 [==============================] - 0s 2ms/step - loss: 0.1447 - binary_accuracy: 0.9467\n",
            "Epoch 87/250\n",
            "15/15 [==============================] - 0s 2ms/step - loss: 0.1531 - binary_accuracy: 0.9419\n",
            "Epoch 88/250\n",
            "15/15 [==============================] - 0s 2ms/step - loss: 0.1739 - binary_accuracy: 0.9285\n",
            "Epoch 89/250\n",
            "15/15 [==============================] - 0s 2ms/step - loss: 0.2087 - binary_accuracy: 0.9263\n",
            "Epoch 90/250\n",
            "15/15 [==============================] - 0s 2ms/step - loss: 0.1889 - binary_accuracy: 0.9333\n",
            "Epoch 91/250\n",
            "15/15 [==============================] - 0s 2ms/step - loss: 0.1644 - binary_accuracy: 0.9321\n",
            "Epoch 92/250\n",
            "15/15 [==============================] - 0s 2ms/step - loss: 0.1333 - binary_accuracy: 0.9517\n",
            "Epoch 93/250\n",
            "15/15 [==============================] - 0s 2ms/step - loss: 0.1253 - binary_accuracy: 0.9602\n",
            "Epoch 94/250\n",
            "15/15 [==============================] - 0s 2ms/step - loss: 0.1757 - binary_accuracy: 0.9273\n",
            "Epoch 95/250\n",
            "15/15 [==============================] - 0s 2ms/step - loss: 0.3132 - binary_accuracy: 0.8802\n",
            "Epoch 96/250\n",
            "15/15 [==============================] - 0s 2ms/step - loss: 0.3154 - binary_accuracy: 0.9144\n",
            "Epoch 97/250\n",
            "15/15 [==============================] - 0s 2ms/step - loss: 0.3191 - binary_accuracy: 0.9045\n",
            "Epoch 98/250\n",
            "15/15 [==============================] - 0s 2ms/step - loss: 0.2012 - binary_accuracy: 0.9289\n",
            "Epoch 99/250\n",
            "15/15 [==============================] - 0s 2ms/step - loss: 0.1367 - binary_accuracy: 0.9399\n",
            "Epoch 100/250\n",
            "15/15 [==============================] - 0s 2ms/step - loss: 0.1346 - binary_accuracy: 0.9492\n",
            "Epoch 101/250\n",
            "15/15 [==============================] - 0s 2ms/step - loss: 0.1517 - binary_accuracy: 0.9307\n",
            "Epoch 102/250\n",
            "15/15 [==============================] - 0s 2ms/step - loss: 0.1286 - binary_accuracy: 0.9385\n",
            "Epoch 103/250\n",
            "15/15 [==============================] - 0s 2ms/step - loss: 0.1624 - binary_accuracy: 0.9311\n",
            "Epoch 104/250\n",
            "15/15 [==============================] - 0s 2ms/step - loss: 0.1335 - binary_accuracy: 0.9505\n",
            "Epoch 105/250\n",
            "15/15 [==============================] - 0s 2ms/step - loss: 0.4504 - binary_accuracy: 0.8677\n",
            "Epoch 106/250\n",
            "15/15 [==============================] - 0s 2ms/step - loss: 0.4322 - binary_accuracy: 0.8779\n",
            "Epoch 107/250\n",
            "15/15 [==============================] - 0s 3ms/step - loss: 0.2875 - binary_accuracy: 0.8921\n",
            "Epoch 108/250\n",
            "15/15 [==============================] - 0s 2ms/step - loss: 0.1978 - binary_accuracy: 0.9349\n",
            "Epoch 109/250\n",
            "15/15 [==============================] - 0s 2ms/step - loss: 0.1930 - binary_accuracy: 0.9343\n",
            "Epoch 110/250\n",
            "15/15 [==============================] - 0s 3ms/step - loss: 0.1359 - binary_accuracy: 0.9388\n",
            "Epoch 111/250\n",
            "15/15 [==============================] - 0s 2ms/step - loss: 0.1368 - binary_accuracy: 0.9500\n",
            "Epoch 112/250\n",
            "15/15 [==============================] - 0s 2ms/step - loss: 0.1436 - binary_accuracy: 0.9475\n",
            "Epoch 113/250\n",
            "15/15 [==============================] - 0s 2ms/step - loss: 0.1364 - binary_accuracy: 0.9518\n",
            "Epoch 114/250\n",
            "15/15 [==============================] - 0s 2ms/step - loss: 0.1504 - binary_accuracy: 0.9458\n",
            "Epoch 115/250\n",
            "15/15 [==============================] - 0s 2ms/step - loss: 0.2034 - binary_accuracy: 0.9154\n",
            "Epoch 116/250\n",
            "15/15 [==============================] - 0s 2ms/step - loss: 0.1491 - binary_accuracy: 0.9457\n",
            "Epoch 117/250\n",
            "15/15 [==============================] - 0s 2ms/step - loss: 0.1274 - binary_accuracy: 0.9560\n",
            "Epoch 118/250\n",
            "15/15 [==============================] - 0s 2ms/step - loss: 0.2995 - binary_accuracy: 0.8807\n",
            "Epoch 119/250\n",
            "15/15 [==============================] - 0s 3ms/step - loss: 0.1134 - binary_accuracy: 0.9498\n",
            "Epoch 120/250\n",
            "15/15 [==============================] - 0s 2ms/step - loss: 0.2057 - binary_accuracy: 0.9212\n",
            "Epoch 121/250\n",
            "15/15 [==============================] - 0s 2ms/step - loss: 0.1517 - binary_accuracy: 0.9242\n",
            "Epoch 122/250\n",
            "15/15 [==============================] - 0s 2ms/step - loss: 0.1405 - binary_accuracy: 0.9587\n",
            "Epoch 123/250\n",
            "15/15 [==============================] - 0s 2ms/step - loss: 0.1402 - binary_accuracy: 0.9498\n",
            "Epoch 124/250\n",
            "15/15 [==============================] - 0s 2ms/step - loss: 0.1188 - binary_accuracy: 0.9575\n",
            "Epoch 125/250\n",
            "15/15 [==============================] - 0s 2ms/step - loss: 0.1568 - binary_accuracy: 0.9292\n",
            "Epoch 126/250\n",
            "15/15 [==============================] - 0s 2ms/step - loss: 0.1761 - binary_accuracy: 0.9278\n",
            "Epoch 127/250\n",
            "15/15 [==============================] - 0s 3ms/step - loss: 0.1022 - binary_accuracy: 0.9558\n",
            "Epoch 128/250\n",
            "15/15 [==============================] - 0s 3ms/step - loss: 0.1985 - binary_accuracy: 0.9249\n",
            "Epoch 129/250\n",
            "15/15 [==============================] - 0s 2ms/step - loss: 0.1396 - binary_accuracy: 0.9494\n",
            "Epoch 130/250\n",
            "15/15 [==============================] - 0s 2ms/step - loss: 0.1162 - binary_accuracy: 0.9450\n",
            "Epoch 131/250\n",
            "15/15 [==============================] - 0s 2ms/step - loss: 0.2537 - binary_accuracy: 0.9076\n",
            "Epoch 132/250\n",
            "15/15 [==============================] - 0s 2ms/step - loss: 0.1605 - binary_accuracy: 0.9368\n",
            "Epoch 133/250\n",
            "15/15 [==============================] - 0s 3ms/step - loss: 0.1119 - binary_accuracy: 0.9624\n",
            "Epoch 134/250\n",
            "15/15 [==============================] - 0s 3ms/step - loss: 0.1476 - binary_accuracy: 0.9545\n",
            "Epoch 135/250\n",
            "15/15 [==============================] - 0s 2ms/step - loss: 0.1556 - binary_accuracy: 0.9330\n",
            "Epoch 136/250\n",
            "15/15 [==============================] - 0s 2ms/step - loss: 0.1199 - binary_accuracy: 0.9403\n",
            "Epoch 137/250\n",
            "15/15 [==============================] - 0s 2ms/step - loss: 0.1263 - binary_accuracy: 0.9560\n",
            "Epoch 138/250\n",
            "15/15 [==============================] - 0s 2ms/step - loss: 0.1916 - binary_accuracy: 0.9218\n",
            "Epoch 139/250\n",
            "15/15 [==============================] - 0s 2ms/step - loss: 0.1898 - binary_accuracy: 0.9297\n",
            "Epoch 140/250\n",
            "15/15 [==============================] - 0s 2ms/step - loss: 0.1802 - binary_accuracy: 0.9091\n",
            "Epoch 141/250\n",
            "15/15 [==============================] - 0s 2ms/step - loss: 0.1267 - binary_accuracy: 0.9496\n",
            "Epoch 142/250\n",
            "15/15 [==============================] - 0s 2ms/step - loss: 0.1485 - binary_accuracy: 0.9511\n",
            "Epoch 143/250\n",
            "15/15 [==============================] - 0s 2ms/step - loss: 0.1180 - binary_accuracy: 0.9510\n",
            "Epoch 144/250\n",
            "15/15 [==============================] - 0s 2ms/step - loss: 0.1180 - binary_accuracy: 0.9538\n",
            "Epoch 145/250\n",
            "15/15 [==============================] - 0s 2ms/step - loss: 0.1255 - binary_accuracy: 0.9524\n",
            "Epoch 146/250\n",
            "15/15 [==============================] - 0s 2ms/step - loss: 0.1781 - binary_accuracy: 0.9420\n",
            "Epoch 147/250\n",
            "15/15 [==============================] - 0s 2ms/step - loss: 0.1246 - binary_accuracy: 0.9532\n",
            "Epoch 148/250\n",
            "15/15 [==============================] - 0s 2ms/step - loss: 0.1651 - binary_accuracy: 0.9450\n",
            "Epoch 149/250\n",
            "15/15 [==============================] - 0s 2ms/step - loss: 0.1478 - binary_accuracy: 0.9369\n",
            "Epoch 150/250\n",
            "15/15 [==============================] - 0s 2ms/step - loss: 0.1940 - binary_accuracy: 0.9330\n",
            "Epoch 151/250\n",
            "15/15 [==============================] - 0s 2ms/step - loss: 0.1542 - binary_accuracy: 0.9396\n",
            "Epoch 152/250\n",
            "15/15 [==============================] - 0s 2ms/step - loss: 0.1171 - binary_accuracy: 0.9615\n",
            "Epoch 153/250\n",
            "15/15 [==============================] - 0s 2ms/step - loss: 0.1096 - binary_accuracy: 0.9588\n",
            "Epoch 154/250\n",
            "15/15 [==============================] - 0s 2ms/step - loss: 0.1555 - binary_accuracy: 0.9459\n",
            "Epoch 155/250\n",
            "15/15 [==============================] - 0s 2ms/step - loss: 0.2070 - binary_accuracy: 0.9197\n",
            "Epoch 156/250\n",
            "15/15 [==============================] - 0s 2ms/step - loss: 0.1545 - binary_accuracy: 0.9495\n",
            "Epoch 157/250\n",
            "15/15 [==============================] - 0s 2ms/step - loss: 0.0954 - binary_accuracy: 0.9704\n",
            "Epoch 158/250\n",
            "15/15 [==============================] - 0s 2ms/step - loss: 0.1180 - binary_accuracy: 0.9504\n",
            "Epoch 159/250\n",
            "15/15 [==============================] - 0s 2ms/step - loss: 0.0979 - binary_accuracy: 0.9606\n",
            "Epoch 160/250\n",
            "15/15 [==============================] - 0s 2ms/step - loss: 0.1000 - binary_accuracy: 0.9613\n",
            "Epoch 161/250\n",
            "15/15 [==============================] - 0s 2ms/step - loss: 0.1636 - binary_accuracy: 0.9523\n",
            "Epoch 162/250\n",
            "15/15 [==============================] - 0s 2ms/step - loss: 0.2958 - binary_accuracy: 0.9044\n",
            "Epoch 163/250\n",
            "15/15 [==============================] - 0s 2ms/step - loss: 0.1092 - binary_accuracy: 0.9596\n",
            "Epoch 164/250\n",
            "15/15 [==============================] - 0s 2ms/step - loss: 0.1584 - binary_accuracy: 0.9489\n",
            "Epoch 165/250\n",
            "15/15 [==============================] - 0s 2ms/step - loss: 0.2001 - binary_accuracy: 0.9418\n",
            "Epoch 166/250\n",
            "15/15 [==============================] - 0s 2ms/step - loss: 0.1481 - binary_accuracy: 0.9375\n",
            "Epoch 167/250\n",
            "15/15 [==============================] - 0s 2ms/step - loss: 0.2576 - binary_accuracy: 0.9242\n",
            "Epoch 168/250\n",
            "15/15 [==============================] - 0s 2ms/step - loss: 0.3375 - binary_accuracy: 0.8761\n",
            "Epoch 169/250\n",
            "15/15 [==============================] - 0s 2ms/step - loss: 0.2363 - binary_accuracy: 0.9250\n",
            "Epoch 170/250\n",
            "15/15 [==============================] - 0s 2ms/step - loss: 0.1128 - binary_accuracy: 0.9654\n",
            "Epoch 171/250\n",
            "15/15 [==============================] - 0s 2ms/step - loss: 0.1905 - binary_accuracy: 0.9380\n",
            "Epoch 172/250\n",
            "15/15 [==============================] - 0s 2ms/step - loss: 0.1350 - binary_accuracy: 0.9460\n",
            "Epoch 173/250\n",
            "15/15 [==============================] - 0s 2ms/step - loss: 0.1150 - binary_accuracy: 0.9572\n",
            "Epoch 174/250\n",
            "15/15 [==============================] - 0s 2ms/step - loss: 0.1426 - binary_accuracy: 0.9411\n",
            "Epoch 175/250\n",
            "15/15 [==============================] - 0s 2ms/step - loss: 0.2305 - binary_accuracy: 0.9074\n",
            "Epoch 176/250\n",
            "15/15 [==============================] - 0s 2ms/step - loss: 0.4222 - binary_accuracy: 0.8585\n",
            "Epoch 177/250\n",
            "15/15 [==============================] - 0s 2ms/step - loss: 0.4859 - binary_accuracy: 0.8368\n",
            "Epoch 178/250\n",
            "15/15 [==============================] - 0s 2ms/step - loss: 0.4689 - binary_accuracy: 0.8690\n",
            "Epoch 179/250\n",
            "15/15 [==============================] - 0s 2ms/step - loss: 0.2381 - binary_accuracy: 0.9306\n",
            "Epoch 180/250\n",
            "15/15 [==============================] - 0s 2ms/step - loss: 0.1477 - binary_accuracy: 0.9495\n",
            "Epoch 181/250\n",
            "15/15 [==============================] - 0s 3ms/step - loss: 0.1214 - binary_accuracy: 0.9534\n",
            "Epoch 182/250\n",
            "15/15 [==============================] - 0s 2ms/step - loss: 0.1284 - binary_accuracy: 0.9582\n",
            "Epoch 183/250\n",
            "15/15 [==============================] - 0s 2ms/step - loss: 0.1117 - binary_accuracy: 0.9486\n",
            "Epoch 184/250\n",
            "15/15 [==============================] - 0s 2ms/step - loss: 0.1042 - binary_accuracy: 0.9724\n",
            "Epoch 185/250\n",
            "15/15 [==============================] - 0s 2ms/step - loss: 0.1230 - binary_accuracy: 0.9477\n",
            "Epoch 186/250\n",
            "15/15 [==============================] - 0s 2ms/step - loss: 0.1320 - binary_accuracy: 0.9597\n",
            "Epoch 187/250\n",
            "15/15 [==============================] - 0s 2ms/step - loss: 0.1923 - binary_accuracy: 0.9448\n",
            "Epoch 188/250\n",
            "15/15 [==============================] - 0s 2ms/step - loss: 0.1097 - binary_accuracy: 0.9521\n",
            "Epoch 189/250\n",
            "15/15 [==============================] - 0s 3ms/step - loss: 0.1020 - binary_accuracy: 0.9676\n",
            "Epoch 190/250\n",
            "15/15 [==============================] - 0s 2ms/step - loss: 0.1315 - binary_accuracy: 0.9362\n",
            "Epoch 191/250\n",
            "15/15 [==============================] - 0s 2ms/step - loss: 0.1170 - binary_accuracy: 0.9464\n",
            "Epoch 192/250\n",
            "15/15 [==============================] - 0s 2ms/step - loss: 0.1867 - binary_accuracy: 0.9199\n",
            "Epoch 193/250\n",
            "15/15 [==============================] - 0s 2ms/step - loss: 0.1780 - binary_accuracy: 0.9329\n",
            "Epoch 194/250\n",
            "15/15 [==============================] - 0s 2ms/step - loss: 0.1740 - binary_accuracy: 0.9340\n",
            "Epoch 195/250\n",
            "15/15 [==============================] - 0s 2ms/step - loss: 0.2006 - binary_accuracy: 0.9397\n",
            "Epoch 196/250\n",
            "15/15 [==============================] - 0s 2ms/step - loss: 0.1839 - binary_accuracy: 0.9069\n",
            "Epoch 197/250\n",
            "15/15 [==============================] - 0s 2ms/step - loss: 0.1560 - binary_accuracy: 0.9372\n",
            "Epoch 198/250\n",
            "15/15 [==============================] - 0s 2ms/step - loss: 0.3261 - binary_accuracy: 0.9046\n",
            "Epoch 199/250\n",
            "15/15 [==============================] - 0s 2ms/step - loss: 0.1759 - binary_accuracy: 0.9450\n",
            "Epoch 200/250\n",
            "15/15 [==============================] - 0s 2ms/step - loss: 0.1250 - binary_accuracy: 0.9449\n",
            "Epoch 201/250\n",
            "15/15 [==============================] - 0s 2ms/step - loss: 0.1104 - binary_accuracy: 0.9659\n",
            "Epoch 202/250\n",
            "15/15 [==============================] - 0s 2ms/step - loss: 0.1566 - binary_accuracy: 0.9394\n",
            "Epoch 203/250\n",
            "15/15 [==============================] - 0s 2ms/step - loss: 0.3725 - binary_accuracy: 0.8731\n",
            "Epoch 204/250\n",
            "15/15 [==============================] - 0s 2ms/step - loss: 0.1873 - binary_accuracy: 0.9437\n",
            "Epoch 205/250\n",
            "15/15 [==============================] - 0s 2ms/step - loss: 0.1494 - binary_accuracy: 0.9412\n",
            "Epoch 206/250\n",
            "15/15 [==============================] - 0s 2ms/step - loss: 0.1309 - binary_accuracy: 0.9531\n",
            "Epoch 207/250\n",
            "15/15 [==============================] - 0s 2ms/step - loss: 0.1248 - binary_accuracy: 0.9469\n",
            "Epoch 208/250\n",
            "15/15 [==============================] - 0s 3ms/step - loss: 0.0965 - binary_accuracy: 0.9573\n",
            "Epoch 209/250\n",
            "15/15 [==============================] - 0s 2ms/step - loss: 0.1748 - binary_accuracy: 0.9539\n",
            "Epoch 210/250\n",
            "15/15 [==============================] - 0s 2ms/step - loss: 0.2035 - binary_accuracy: 0.9362\n",
            "Epoch 211/250\n",
            "15/15 [==============================] - 0s 2ms/step - loss: 0.0772 - binary_accuracy: 0.9661\n",
            "Epoch 212/250\n",
            "15/15 [==============================] - 0s 2ms/step - loss: 0.2263 - binary_accuracy: 0.8906\n",
            "Epoch 213/250\n",
            "15/15 [==============================] - 0s 2ms/step - loss: 0.1749 - binary_accuracy: 0.9265\n",
            "Epoch 214/250\n",
            "15/15 [==============================] - 0s 2ms/step - loss: 0.1226 - binary_accuracy: 0.9452\n",
            "Epoch 215/250\n",
            "15/15 [==============================] - 0s 2ms/step - loss: 0.1225 - binary_accuracy: 0.9459\n",
            "Epoch 216/250\n",
            "15/15 [==============================] - 0s 2ms/step - loss: 0.0917 - binary_accuracy: 0.9705\n",
            "Epoch 217/250\n",
            "15/15 [==============================] - 0s 2ms/step - loss: 0.1175 - binary_accuracy: 0.9372\n",
            "Epoch 218/250\n",
            "15/15 [==============================] - 0s 2ms/step - loss: 0.1808 - binary_accuracy: 0.9378\n",
            "Epoch 219/250\n",
            "15/15 [==============================] - 0s 2ms/step - loss: 0.0812 - binary_accuracy: 0.9689\n",
            "Epoch 220/250\n",
            "15/15 [==============================] - 0s 2ms/step - loss: 0.1663 - binary_accuracy: 0.9382\n",
            "Epoch 221/250\n",
            "15/15 [==============================] - 0s 2ms/step - loss: 0.1706 - binary_accuracy: 0.9323\n",
            "Epoch 222/250\n",
            "15/15 [==============================] - 0s 3ms/step - loss: 0.1978 - binary_accuracy: 0.9370\n",
            "Epoch 223/250\n",
            "15/15 [==============================] - 0s 2ms/step - loss: 0.1709 - binary_accuracy: 0.9409\n",
            "Epoch 224/250\n",
            "15/15 [==============================] - 0s 2ms/step - loss: 0.1314 - binary_accuracy: 0.9545\n",
            "Epoch 225/250\n",
            "15/15 [==============================] - 0s 3ms/step - loss: 0.1655 - binary_accuracy: 0.9503\n",
            "Epoch 226/250\n",
            "15/15 [==============================] - 0s 2ms/step - loss: 0.1447 - binary_accuracy: 0.9413\n",
            "Epoch 227/250\n",
            "15/15 [==============================] - 0s 2ms/step - loss: 0.4341 - binary_accuracy: 0.8485\n",
            "Epoch 228/250\n",
            "15/15 [==============================] - 0s 2ms/step - loss: 0.2063 - binary_accuracy: 0.9290\n",
            "Epoch 229/250\n",
            "15/15 [==============================] - 0s 2ms/step - loss: 0.1789 - binary_accuracy: 0.9479\n",
            "Epoch 230/250\n",
            "15/15 [==============================] - 0s 3ms/step - loss: 0.1381 - binary_accuracy: 0.9419\n",
            "Epoch 231/250\n",
            "15/15 [==============================] - 0s 2ms/step - loss: 0.0916 - binary_accuracy: 0.9609\n",
            "Epoch 232/250\n",
            "15/15 [==============================] - 0s 2ms/step - loss: 0.1005 - binary_accuracy: 0.9586\n",
            "Epoch 233/250\n",
            "15/15 [==============================] - 0s 3ms/step - loss: 0.1178 - binary_accuracy: 0.9591\n",
            "Epoch 234/250\n",
            "15/15 [==============================] - 0s 2ms/step - loss: 0.1091 - binary_accuracy: 0.9501\n",
            "Epoch 235/250\n",
            "15/15 [==============================] - 0s 2ms/step - loss: 0.3030 - binary_accuracy: 0.9075\n",
            "Epoch 236/250\n",
            "15/15 [==============================] - 0s 2ms/step - loss: 0.3317 - binary_accuracy: 0.8936\n",
            "Epoch 237/250\n",
            "15/15 [==============================] - 0s 2ms/step - loss: 0.1233 - binary_accuracy: 0.9659\n",
            "Epoch 238/250\n",
            "15/15 [==============================] - 0s 2ms/step - loss: 0.1659 - binary_accuracy: 0.9527\n",
            "Epoch 239/250\n",
            "15/15 [==============================] - 0s 2ms/step - loss: 0.1311 - binary_accuracy: 0.9543\n",
            "Epoch 240/250\n",
            "15/15 [==============================] - 0s 2ms/step - loss: 0.1446 - binary_accuracy: 0.9537\n",
            "Epoch 241/250\n",
            "15/15 [==============================] - 0s 3ms/step - loss: 0.1163 - binary_accuracy: 0.9482\n",
            "Epoch 242/250\n",
            "15/15 [==============================] - 0s 2ms/step - loss: 0.1237 - binary_accuracy: 0.9473\n",
            "Epoch 243/250\n",
            "15/15 [==============================] - 0s 2ms/step - loss: 0.1440 - binary_accuracy: 0.9261\n",
            "Epoch 244/250\n",
            "15/15 [==============================] - 0s 3ms/step - loss: 0.1256 - binary_accuracy: 0.9358\n",
            "Epoch 245/250\n",
            "15/15 [==============================] - 0s 2ms/step - loss: 0.1145 - binary_accuracy: 0.9597\n",
            "Epoch 246/250\n",
            "15/15 [==============================] - 0s 2ms/step - loss: 0.1906 - binary_accuracy: 0.9165\n",
            "Epoch 247/250\n",
            "15/15 [==============================] - 0s 2ms/step - loss: 0.1269 - binary_accuracy: 0.9514\n",
            "Epoch 248/250\n",
            "15/15 [==============================] - 0s 2ms/step - loss: 0.1188 - binary_accuracy: 0.9386\n",
            "Epoch 249/250\n",
            "15/15 [==============================] - 0s 2ms/step - loss: 0.1041 - binary_accuracy: 0.9619\n",
            "Epoch 250/250\n",
            "15/15 [==============================] - 0s 2ms/step - loss: 0.0755 - binary_accuracy: 0.9730\n"
          ],
          "name": "stdout"
        },
        {
          "output_type": "execute_result",
          "data": {
            "text/plain": [
              "<tensorflow.python.keras.callbacks.History at 0x7f955cc46240>"
            ]
          },
          "metadata": {
            "tags": []
          },
          "execution_count": 63
        }
      ]
    },
    {
      "cell_type": "markdown",
      "metadata": {
        "id": "DPe5GLKag7pe"
      },
      "source": [
        "Plotto il risultato di accuratezza della rete col training set"
      ]
    },
    {
      "cell_type": "code",
      "metadata": {
        "id": "tKH_COS0nWRx",
        "colab": {
          "base_uri": "https://localhost:8080/",
          "height": 323
        },
        "outputId": "146fce32-7d6f-472d-8961-0bb5a816f76e"
      },
      "source": [
        "plt.figure(figsize=(10,5))\n",
        "plt.plot(range(epochs),model.history.history['loss'])\n",
        "plt.grid(True)"
      ],
      "execution_count": null,
      "outputs": [
        {
          "output_type": "display_data",
          "data": {
            "image/png": "[encoded data removed]",
            "text/plain": [
              "<Figure size 720x360 with 1 Axes>"
            ]
          },
          "metadata": {
            "tags": [],
            "needs_background": "light"
          }
        }
      ]
    },
    {
      "cell_type": "code",
      "metadata": {
        "colab": {
          "base_uri": "https://localhost:8080/",
          "height": 320
        },
        "id": "jRq7MGKDhWXs",
        "outputId": "45f64fd4-6c82-43fc-9731-21fc76425463"
      },
      "source": [
        "plt.figure(figsize=(10,5))\r\n",
        "plt.plot(range(epochs),model.history.history['binary_accuracy'])\r\n",
        "plt.grid(True)"
      ],
      "execution_count": null,
      "outputs": [
        {
          "output_type": "display_data",
          "data": {
            "image/png": "[encoded data removed]",
            "text/plain": [
              "<Figure size 720x360 with 1 Axes>"
            ]
          },
          "metadata": {
            "tags": [],
            "needs_background": "light"
          }
        }
      ]
    },
    {
      "cell_type": "markdown",
      "metadata": {
        "id": "QWfXOBI6kMsB"
      },
      "source": [
        "Verifico l'accuratezza delle predizioni rispetto al set di `test`"
      ]
    },
    {
      "cell_type": "code",
      "metadata": {
        "id": "2l2dx0BxiTvV"
      },
      "source": [
        "y_pred = model.predict(X_test)"
      ],
      "execution_count": null,
      "outputs": []
    },
    {
      "cell_type": "code",
      "metadata": {
        "id": "TXsZFA5AiXwO"
      },
      "source": [
        "y_pred_class = np.where(y_pred[:,0] >= 0.5, 1,0)"
      ],
      "execution_count": null,
      "outputs": []
    },
    {
      "cell_type": "code",
      "metadata": {
        "id": "-43tHln2ibdV",
        "colab": {
          "base_uri": "https://localhost:8080/"
        },
        "outputId": "3850a72b-2d87-43b1-a650-a35a18f808ea"
      },
      "source": [
        "k.metrics.binary_accuracy(y_test,y_pred_class)"
      ],
      "execution_count": null,
      "outputs": [
        {
          "output_type": "execute_result",
          "data": {
            "text/plain": [
              "<tf.Tensor: shape=(), dtype=float32, numpy=0.9649123>"
            ]
          },
          "metadata": {
            "tags": []
          },
          "execution_count": 68
        }
      ]
    }
  ]
}